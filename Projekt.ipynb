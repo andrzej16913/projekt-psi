{
 "cells": [
  {
   "cell_type": "markdown",
   "id": "5426d6bd",
   "metadata": {},
   "source": [
    "# Przewidywanie choroby serca na podstawie danych pacjenta\n",
    "\n",
    "Tematem mojego projektu jest przewidywanie choroby serca pacjenta na podstawie znanych danych na jego temat, takich jak wiek, palenie papierosów czy samopoczucia psychicznego."
   ]
  },
  {
   "cell_type": "markdown",
   "id": "3893bd14",
   "metadata": {},
   "source": [
    "**Wczytanie i prepocessing danych**"
   ]
  },
  {
   "cell_type": "code",
   "execution_count": 2,
   "id": "7f4102ad",
   "metadata": {},
   "outputs": [
    {
     "data": {
      "text/html": [
       "<div>\n",
       "<style scoped>\n",
       "    .dataframe tbody tr th:only-of-type {\n",
       "        vertical-align: middle;\n",
       "    }\n",
       "\n",
       "    .dataframe tbody tr th {\n",
       "        vertical-align: top;\n",
       "    }\n",
       "\n",
       "    .dataframe thead th {\n",
       "        text-align: right;\n",
       "    }\n",
       "</style>\n",
       "<table border=\"1\" class=\"dataframe\">\n",
       "  <thead>\n",
       "    <tr style=\"text-align: right;\">\n",
       "      <th></th>\n",
       "      <th>HeartDisease</th>\n",
       "      <th>BMI</th>\n",
       "      <th>Smoking</th>\n",
       "      <th>AlcoholDrinking</th>\n",
       "      <th>Stroke</th>\n",
       "      <th>PhysicalHealth</th>\n",
       "      <th>MentalHealth</th>\n",
       "      <th>DiffWalking</th>\n",
       "      <th>Sex</th>\n",
       "      <th>AgeCategory</th>\n",
       "      <th>Race</th>\n",
       "      <th>Diabetic</th>\n",
       "      <th>PhysicalActivity</th>\n",
       "      <th>GenHealth</th>\n",
       "      <th>SleepTime</th>\n",
       "      <th>Asthma</th>\n",
       "      <th>KidneyDisease</th>\n",
       "      <th>SkinCancer</th>\n",
       "    </tr>\n",
       "  </thead>\n",
       "  <tbody>\n",
       "    <tr>\n",
       "      <th>0</th>\n",
       "      <td>No</td>\n",
       "      <td>16.60</td>\n",
       "      <td>Yes</td>\n",
       "      <td>No</td>\n",
       "      <td>No</td>\n",
       "      <td>3.0</td>\n",
       "      <td>30.0</td>\n",
       "      <td>No</td>\n",
       "      <td>Female</td>\n",
       "      <td>55-59</td>\n",
       "      <td>White</td>\n",
       "      <td>Yes</td>\n",
       "      <td>Yes</td>\n",
       "      <td>Very good</td>\n",
       "      <td>5.0</td>\n",
       "      <td>Yes</td>\n",
       "      <td>No</td>\n",
       "      <td>Yes</td>\n",
       "    </tr>\n",
       "    <tr>\n",
       "      <th>1</th>\n",
       "      <td>No</td>\n",
       "      <td>20.34</td>\n",
       "      <td>No</td>\n",
       "      <td>No</td>\n",
       "      <td>Yes</td>\n",
       "      <td>0.0</td>\n",
       "      <td>0.0</td>\n",
       "      <td>No</td>\n",
       "      <td>Female</td>\n",
       "      <td>80 or older</td>\n",
       "      <td>White</td>\n",
       "      <td>No</td>\n",
       "      <td>Yes</td>\n",
       "      <td>Very good</td>\n",
       "      <td>7.0</td>\n",
       "      <td>No</td>\n",
       "      <td>No</td>\n",
       "      <td>No</td>\n",
       "    </tr>\n",
       "    <tr>\n",
       "      <th>2</th>\n",
       "      <td>No</td>\n",
       "      <td>26.58</td>\n",
       "      <td>Yes</td>\n",
       "      <td>No</td>\n",
       "      <td>No</td>\n",
       "      <td>20.0</td>\n",
       "      <td>30.0</td>\n",
       "      <td>No</td>\n",
       "      <td>Male</td>\n",
       "      <td>65-69</td>\n",
       "      <td>White</td>\n",
       "      <td>Yes</td>\n",
       "      <td>Yes</td>\n",
       "      <td>Fair</td>\n",
       "      <td>8.0</td>\n",
       "      <td>Yes</td>\n",
       "      <td>No</td>\n",
       "      <td>No</td>\n",
       "    </tr>\n",
       "    <tr>\n",
       "      <th>3</th>\n",
       "      <td>No</td>\n",
       "      <td>24.21</td>\n",
       "      <td>No</td>\n",
       "      <td>No</td>\n",
       "      <td>No</td>\n",
       "      <td>0.0</td>\n",
       "      <td>0.0</td>\n",
       "      <td>No</td>\n",
       "      <td>Female</td>\n",
       "      <td>75-79</td>\n",
       "      <td>White</td>\n",
       "      <td>No</td>\n",
       "      <td>No</td>\n",
       "      <td>Good</td>\n",
       "      <td>6.0</td>\n",
       "      <td>No</td>\n",
       "      <td>No</td>\n",
       "      <td>Yes</td>\n",
       "    </tr>\n",
       "    <tr>\n",
       "      <th>4</th>\n",
       "      <td>No</td>\n",
       "      <td>23.71</td>\n",
       "      <td>No</td>\n",
       "      <td>No</td>\n",
       "      <td>No</td>\n",
       "      <td>28.0</td>\n",
       "      <td>0.0</td>\n",
       "      <td>Yes</td>\n",
       "      <td>Female</td>\n",
       "      <td>40-44</td>\n",
       "      <td>White</td>\n",
       "      <td>No</td>\n",
       "      <td>Yes</td>\n",
       "      <td>Very good</td>\n",
       "      <td>8.0</td>\n",
       "      <td>No</td>\n",
       "      <td>No</td>\n",
       "      <td>No</td>\n",
       "    </tr>\n",
       "  </tbody>\n",
       "</table>\n",
       "</div>"
      ],
      "text/plain": [
       "  HeartDisease    BMI Smoking AlcoholDrinking Stroke  PhysicalHealth  \\\n",
       "0           No  16.60     Yes              No     No             3.0   \n",
       "1           No  20.34      No              No    Yes             0.0   \n",
       "2           No  26.58     Yes              No     No            20.0   \n",
       "3           No  24.21      No              No     No             0.0   \n",
       "4           No  23.71      No              No     No            28.0   \n",
       "\n",
       "   MentalHealth DiffWalking     Sex  AgeCategory   Race Diabetic  \\\n",
       "0          30.0          No  Female        55-59  White      Yes   \n",
       "1           0.0          No  Female  80 or older  White       No   \n",
       "2          30.0          No    Male        65-69  White      Yes   \n",
       "3           0.0          No  Female        75-79  White       No   \n",
       "4           0.0         Yes  Female        40-44  White       No   \n",
       "\n",
       "  PhysicalActivity  GenHealth  SleepTime Asthma KidneyDisease SkinCancer  \n",
       "0              Yes  Very good        5.0    Yes            No        Yes  \n",
       "1              Yes  Very good        7.0     No            No         No  \n",
       "2              Yes       Fair        8.0    Yes            No         No  \n",
       "3               No       Good        6.0     No            No        Yes  \n",
       "4              Yes  Very good        8.0     No            No         No  "
      ]
     },
     "execution_count": 2,
     "metadata": {},
     "output_type": "execute_result"
    }
   ],
   "source": [
    "import pandas as pd\n",
    "import numpy as np\n",
    "import matplotlib.pyplot as plt\n",
    "import seaborn as sns\n",
    "\n",
    "df = pd.read_csv('heart_2020_cleaned.csv')\n",
    "df.head()"
   ]
  },
  {
   "cell_type": "markdown",
   "id": "01c77e09",
   "metadata": {},
   "source": [
    "Zamiana danych podzielonych na kategorie w dane liczbowe oraz skalowanie kolumn z liczbami rzeczywistymi."
   ]
  },
  {
   "cell_type": "code",
   "execution_count": 3,
   "id": "5e4eaac8",
   "metadata": {},
   "outputs": [
    {
     "data": {
      "text/html": [
       "<div>\n",
       "<style scoped>\n",
       "    .dataframe tbody tr th:only-of-type {\n",
       "        vertical-align: middle;\n",
       "    }\n",
       "\n",
       "    .dataframe tbody tr th {\n",
       "        vertical-align: top;\n",
       "    }\n",
       "\n",
       "    .dataframe thead th {\n",
       "        text-align: right;\n",
       "    }\n",
       "</style>\n",
       "<table border=\"1\" class=\"dataframe\">\n",
       "  <thead>\n",
       "    <tr style=\"text-align: right;\">\n",
       "      <th></th>\n",
       "      <th>HeartDisease</th>\n",
       "      <th>BMI</th>\n",
       "      <th>Smoking</th>\n",
       "      <th>AlcoholDrinking</th>\n",
       "      <th>Stroke</th>\n",
       "      <th>PhysicalHealth</th>\n",
       "      <th>MentalHealth</th>\n",
       "      <th>DiffWalking</th>\n",
       "      <th>Sex</th>\n",
       "      <th>AgeCategory</th>\n",
       "      <th>Race</th>\n",
       "      <th>Diabetic</th>\n",
       "      <th>PhysicalActivity</th>\n",
       "      <th>GenHealth</th>\n",
       "      <th>SleepTime</th>\n",
       "      <th>Asthma</th>\n",
       "      <th>KidneyDisease</th>\n",
       "      <th>SkinCancer</th>\n",
       "    </tr>\n",
       "  </thead>\n",
       "  <tbody>\n",
       "    <tr>\n",
       "      <th>0</th>\n",
       "      <td>0</td>\n",
       "      <td>-1.844750</td>\n",
       "      <td>1</td>\n",
       "      <td>0</td>\n",
       "      <td>0</td>\n",
       "      <td>-0.046751</td>\n",
       "      <td>3.281069</td>\n",
       "      <td>0</td>\n",
       "      <td>0</td>\n",
       "      <td>7</td>\n",
       "      <td>5</td>\n",
       "      <td>2</td>\n",
       "      <td>1</td>\n",
       "      <td>4</td>\n",
       "      <td>-1.460354</td>\n",
       "      <td>1</td>\n",
       "      <td>0</td>\n",
       "      <td>1</td>\n",
       "    </tr>\n",
       "    <tr>\n",
       "      <th>1</th>\n",
       "      <td>0</td>\n",
       "      <td>-1.256338</td>\n",
       "      <td>0</td>\n",
       "      <td>0</td>\n",
       "      <td>1</td>\n",
       "      <td>-0.424070</td>\n",
       "      <td>-0.490039</td>\n",
       "      <td>0</td>\n",
       "      <td>0</td>\n",
       "      <td>12</td>\n",
       "      <td>5</td>\n",
       "      <td>0</td>\n",
       "      <td>1</td>\n",
       "      <td>4</td>\n",
       "      <td>-0.067601</td>\n",
       "      <td>0</td>\n",
       "      <td>0</td>\n",
       "      <td>0</td>\n",
       "    </tr>\n",
       "    <tr>\n",
       "      <th>2</th>\n",
       "      <td>0</td>\n",
       "      <td>-0.274603</td>\n",
       "      <td>1</td>\n",
       "      <td>0</td>\n",
       "      <td>0</td>\n",
       "      <td>2.091388</td>\n",
       "      <td>3.281069</td>\n",
       "      <td>0</td>\n",
       "      <td>1</td>\n",
       "      <td>9</td>\n",
       "      <td>5</td>\n",
       "      <td>2</td>\n",
       "      <td>1</td>\n",
       "      <td>1</td>\n",
       "      <td>0.628776</td>\n",
       "      <td>1</td>\n",
       "      <td>0</td>\n",
       "      <td>0</td>\n",
       "    </tr>\n",
       "    <tr>\n",
       "      <th>3</th>\n",
       "      <td>0</td>\n",
       "      <td>-0.647473</td>\n",
       "      <td>0</td>\n",
       "      <td>0</td>\n",
       "      <td>0</td>\n",
       "      <td>-0.424070</td>\n",
       "      <td>-0.490039</td>\n",
       "      <td>0</td>\n",
       "      <td>0</td>\n",
       "      <td>11</td>\n",
       "      <td>5</td>\n",
       "      <td>0</td>\n",
       "      <td>0</td>\n",
       "      <td>2</td>\n",
       "      <td>-0.763977</td>\n",
       "      <td>0</td>\n",
       "      <td>0</td>\n",
       "      <td>1</td>\n",
       "    </tr>\n",
       "    <tr>\n",
       "      <th>4</th>\n",
       "      <td>0</td>\n",
       "      <td>-0.726138</td>\n",
       "      <td>0</td>\n",
       "      <td>0</td>\n",
       "      <td>0</td>\n",
       "      <td>3.097572</td>\n",
       "      <td>-0.490039</td>\n",
       "      <td>1</td>\n",
       "      <td>0</td>\n",
       "      <td>4</td>\n",
       "      <td>5</td>\n",
       "      <td>0</td>\n",
       "      <td>1</td>\n",
       "      <td>4</td>\n",
       "      <td>0.628776</td>\n",
       "      <td>0</td>\n",
       "      <td>0</td>\n",
       "      <td>0</td>\n",
       "    </tr>\n",
       "  </tbody>\n",
       "</table>\n",
       "</div>"
      ],
      "text/plain": [
       "   HeartDisease       BMI  Smoking  AlcoholDrinking  Stroke  PhysicalHealth  \\\n",
       "0             0 -1.844750        1                0       0       -0.046751   \n",
       "1             0 -1.256338        0                0       1       -0.424070   \n",
       "2             0 -0.274603        1                0       0        2.091388   \n",
       "3             0 -0.647473        0                0       0       -0.424070   \n",
       "4             0 -0.726138        0                0       0        3.097572   \n",
       "\n",
       "   MentalHealth  DiffWalking  Sex  AgeCategory  Race  Diabetic  \\\n",
       "0      3.281069            0    0            7     5         2   \n",
       "1     -0.490039            0    0           12     5         0   \n",
       "2      3.281069            0    1            9     5         2   \n",
       "3     -0.490039            0    0           11     5         0   \n",
       "4     -0.490039            1    0            4     5         0   \n",
       "\n",
       "   PhysicalActivity  GenHealth  SleepTime  Asthma  KidneyDisease  SkinCancer  \n",
       "0                 1          4  -1.460354       1              0           1  \n",
       "1                 1          4  -0.067601       0              0           0  \n",
       "2                 1          1   0.628776       1              0           0  \n",
       "3                 0          2  -0.763977       0              0           1  \n",
       "4                 1          4   0.628776       0              0           0  "
      ]
     },
     "execution_count": 3,
     "metadata": {},
     "output_type": "execute_result"
    }
   ],
   "source": [
    "from sklearn.preprocessing import LabelEncoder\n",
    "from sklearn.preprocessing import StandardScaler\n",
    "\n",
    "le = LabelEncoder()\n",
    "cols_list = ['HeartDisease', 'Smoking', 'AlcoholDrinking', 'AgeCategory', 'Stroke', 'DiffWalking', 'Race', 'Sex',\n",
    "             'PhysicalActivity', 'Asthma', 'KidneyDisease', 'SkinCancer','GenHealth' ,'Diabetic']\n",
    "columns = df[cols_list]\n",
    "for col in columns:\n",
    "  df[col] = le.fit_transform(df[col])\n",
    "df.head()\n",
    "\n",
    "num_cols = ['MentalHealth', 'BMI', 'PhysicalHealth', 'SleepTime'  ]\n",
    "sc = StandardScaler()\n",
    "df[num_cols] = sc.fit_transform(df[num_cols])\n",
    "df.head()"
   ]
  },
  {
   "cell_type": "code",
   "execution_count": 4,
   "id": "f9167bca",
   "metadata": {},
   "outputs": [
    {
     "name": "stdout",
     "output_type": "stream",
     "text": [
      "Has heart disease: Counter({0: 292422, 1: 27373})\n"
     ]
    },
    {
     "data": {
      "image/png": "[encoded data removed]",
      "text/plain": [
       "<Figure size 432x288 with 1 Axes>"
      ]
     },
     "metadata": {
      "needs_background": "light"
     },
     "output_type": "display_data"
    }
   ],
   "source": [
    "X = df.drop(columns = ['HeartDisease'], axis = 1)\n",
    "y = df['HeartDisease']\n",
    "\n",
    "from collections import Counter\n",
    "\n",
    "print('Has heart disease: {}'.format(Counter(y)))\n",
    "\n",
    "plt.hist(y.values, bins=3)\n",
    "plt.show()"
   ]
  },
  {
   "cell_type": "markdown",
   "id": "380f69bd",
   "metadata": {},
   "source": [
    "Jak można zauwazżyć na powyższym wykresie, wynik 0 (no) występuje ponad dziesięciokrotnie częściej niż wynik 1 (yes). Gdyby nauczyć jakikolwiek model binarnej klasyfikacji na takich danych, to prawdopodobnie prawie zawsze odpowiadał 0. \n",
    "\n",
    "Aby ulepszyć wyniki, należy zmienić proporcje danych stosując undersampling lub oversampling. Danych w tym zboirze jest bardzo dużo, daltego wykorzystam undersampling. W tym celu użyję RandomUnderSampler z biblioteki imblearn."
   ]
  },
  {
   "cell_type": "code",
   "execution_count": 5,
   "id": "9fff0719",
   "metadata": {},
   "outputs": [
    {
     "name": "stdout",
     "output_type": "stream",
     "text": [
      "Przed undersamplingiem: Counter({0: 292422, 1: 27373})\n",
      "Po undersamplingu: Counter({0: 39104, 1: 27373})\n"
     ]
    },
    {
     "data": {
      "image/png": "[encoded data removed]",
      "text/plain": [
       "<Figure size 432x288 with 1 Axes>"
      ]
     },
     "metadata": {
      "needs_background": "light"
     },
     "output_type": "display_data"
    }
   ],
   "source": [
    "from imblearn.under_sampling import RandomUnderSampler\n",
    "\n",
    "under_sampler = RandomUnderSampler(sampling_strategy=0.7)\n",
    "X_under, y_under = under_sampler.fit_resample(X, y)\n",
    "\n",
    "print('Przed undersamplingiem: {}'.format(Counter(y)))\n",
    "print('Po undersamplingu: {}'.format(Counter(y_under)))\n",
    "\n",
    "plt.hist(y_under.values, bins=3)\n",
    "plt.show()"
   ]
  },
  {
   "cell_type": "markdown",
   "id": "6883735a",
   "metadata": {},
   "source": [
    "Trzeba jeszcze podzielić zbiór na dane treningowe i testowe."
   ]
  },
  {
   "cell_type": "code",
   "execution_count": 6,
   "id": "5c97c587",
   "metadata": {},
   "outputs": [],
   "source": [
    "from sklearn.model_selection import train_test_split\n",
    "X_train, X_test, y_train, y_test = train_test_split(X_under, y_under, test_size=0.2, random_state=13)"
   ]
  },
  {
   "cell_type": "markdown",
   "id": "b67fc89a",
   "metadata": {},
   "source": [
    "**Analiza danych**"
   ]
  },
  {
   "cell_type": "markdown",
   "id": "e4852091",
   "metadata": {},
   "source": [
    "Poniżej znajduje się heatmap parametrów będących liczbami w oryginalnym zbiorze danych."
   ]
  },
  {
   "cell_type": "code",
   "execution_count": 7,
   "id": "059a4bc3",
   "metadata": {},
   "outputs": [
    {
     "data": {
      "image/png": "[encoded data removed]",
      "text/plain": [
       "<Figure size 792x648 with 2 Axes>"
      ]
     },
     "metadata": {},
     "output_type": "display_data"
    },
    {
     "data": {
      "text/html": [
       "<div>\n",
       "<style scoped>\n",
       "    .dataframe tbody tr th:only-of-type {\n",
       "        vertical-align: middle;\n",
       "    }\n",
       "\n",
       "    .dataframe tbody tr th {\n",
       "        vertical-align: top;\n",
       "    }\n",
       "\n",
       "    .dataframe thead th {\n",
       "        text-align: right;\n",
       "    }\n",
       "</style>\n",
       "<table border=\"1\" class=\"dataframe\">\n",
       "  <thead>\n",
       "    <tr style=\"text-align: right;\">\n",
       "      <th></th>\n",
       "      <th>BMI</th>\n",
       "      <th>PhysicalHealth</th>\n",
       "      <th>MentalHealth</th>\n",
       "      <th>SleepTime</th>\n",
       "    </tr>\n",
       "  </thead>\n",
       "  <tbody>\n",
       "    <tr>\n",
       "      <th>BMI</th>\n",
       "      <td>1.000000</td>\n",
       "      <td>0.109788</td>\n",
       "      <td>0.064131</td>\n",
       "      <td>-0.051822</td>\n",
       "    </tr>\n",
       "    <tr>\n",
       "      <th>PhysicalHealth</th>\n",
       "      <td>0.109788</td>\n",
       "      <td>1.000000</td>\n",
       "      <td>0.287987</td>\n",
       "      <td>-0.061387</td>\n",
       "    </tr>\n",
       "    <tr>\n",
       "      <th>MentalHealth</th>\n",
       "      <td>0.064131</td>\n",
       "      <td>0.287987</td>\n",
       "      <td>1.000000</td>\n",
       "      <td>-0.119717</td>\n",
       "    </tr>\n",
       "    <tr>\n",
       "      <th>SleepTime</th>\n",
       "      <td>-0.051822</td>\n",
       "      <td>-0.061387</td>\n",
       "      <td>-0.119717</td>\n",
       "      <td>1.000000</td>\n",
       "    </tr>\n",
       "  </tbody>\n",
       "</table>\n",
       "</div>"
      ],
      "text/plain": [
       "                     BMI  PhysicalHealth  MentalHealth  SleepTime\n",
       "BMI             1.000000        0.109788      0.064131  -0.051822\n",
       "PhysicalHealth  0.109788        1.000000      0.287987  -0.061387\n",
       "MentalHealth    0.064131        0.287987      1.000000  -0.119717\n",
       "SleepTime      -0.051822       -0.061387     -0.119717   1.000000"
      ]
     },
     "execution_count": 7,
     "metadata": {},
     "output_type": "execute_result"
    }
   ],
   "source": [
    "sns.set(style=\"darkgrid\")\n",
    "\n",
    "heat_data = df.drop(columns = cols_list, axis = 1)\n",
    "\n",
    "corr = heat_data.corr()\n",
    "\n",
    "f, ax = plt.subplots(figsize = (11, 9))\n",
    "\n",
    "cmap = sns.diverging_palette(220, 10, as_cmap=True)\n",
    "\n",
    "sns.heatmap(corr, cmap=cmap, vmin=-1, vmax=1, annot=True, square=True, xticklabels=True, yticklabels=True,\n",
    "            linewidths=.5, cbar_kws = {\"shrink\": .5}, ax=ax)\n",
    "plt.show()\n",
    "corr"
   ]
  },
  {
   "cell_type": "markdown",
   "id": "366f2ad9",
   "metadata": {},
   "source": [
    "Dane nie są silnie skorelowane. Jedyna większa korelacja występuje pomiędzy stanem zdrowia mentalnego i fizycznego."
   ]
  },
  {
   "cell_type": "markdown",
   "id": "786efb97",
   "metadata": {},
   "source": [
    "**Modele płytkie**"
   ]
  },
  {
   "cell_type": "markdown",
   "id": "9c40ea0a",
   "metadata": {},
   "source": [
    "Regresja logistyczna"
   ]
  },
  {
   "cell_type": "code",
   "execution_count": 8,
   "id": "8d2e4394",
   "metadata": {},
   "outputs": [
    {
     "name": "stdout",
     "output_type": "stream",
     "text": [
      "0.7498495788206979\n",
      "0.7141743029830376\n",
      "0.6632265073329712\n",
      "0.6877581674802854\n"
     ]
    }
   ],
   "source": [
    "from sklearn.linear_model import LogisticRegression\n",
    "from sklearn.metrics import accuracy_score\n",
    "from sklearn.metrics import precision_score\n",
    "from sklearn.metrics import recall_score\n",
    "from sklearn.metrics import f1_score\n",
    "\n",
    "log_clf = LogisticRegression(random_state=42)\n",
    "log_clf.fit(X_train, y_train)\n",
    "prediction = log_clf.predict(X_test)\n",
    "\n",
    "print(accuracy_score(y_test, prediction))\n",
    "print(precision_score(y_test, prediction))\n",
    "print(recall_score(y_test, prediction))\n",
    "print(f1_score(y_test, prediction))"
   ]
  },
  {
   "cell_type": "markdown",
   "id": "e7469f1a",
   "metadata": {},
   "source": [
    "Drzewo decyzyjne"
   ]
  },
  {
   "cell_type": "code",
   "execution_count": 9,
   "id": "d531f863",
   "metadata": {},
   "outputs": [
    {
     "name": "stdout",
     "output_type": "stream",
     "text": [
      "0.7438327316486161\n",
      "0.6744684358002307\n",
      "0.7409016838674634\n",
      "0.7061259706643658\n"
     ]
    }
   ],
   "source": [
    "from sklearn.tree import DecisionTreeClassifier\n",
    "\n",
    "tree_clf = DecisionTreeClassifier(max_depth=9, random_state=42, criterion='entropy')\n",
    "tree_clf.fit(X_train, y_train)\n",
    "prediction = tree_clf.predict(X_test)\n",
    "\n",
    "print(accuracy_score(y_test, prediction))\n",
    "print(precision_score(y_test, prediction))\n",
    "print(recall_score(y_test, prediction))\n",
    "print(f1_score(y_test, prediction))"
   ]
  },
  {
   "cell_type": "markdown",
   "id": "343c7575",
   "metadata": {},
   "source": [
    "Las losowy"
   ]
  },
  {
   "cell_type": "code",
   "execution_count": 10,
   "id": "7eddedb4",
   "metadata": {},
   "outputs": [
    {
     "name": "stdout",
     "output_type": "stream",
     "text": [
      "0.74338146811071\n",
      "0.6891916113998925\n",
      "0.6961796125294224\n",
      "0.692667987749955\n"
     ]
    }
   ],
   "source": [
    "from sklearn.ensemble import RandomForestClassifier\n",
    "\n",
    "rnd_clf = RandomForestClassifier(random_state=42)\n",
    "rnd_clf.fit(X_train, y_train)\n",
    "prediction = rnd_clf.predict(X_test)\n",
    "\n",
    "print(accuracy_score(y_test, prediction))\n",
    "print(precision_score(y_test, prediction))\n",
    "print(recall_score(y_test, prediction))\n",
    "print(f1_score(y_test, prediction))"
   ]
  },
  {
   "cell_type": "markdown",
   "id": "ff8c46e9",
   "metadata": {},
   "source": [
    "Klasyfikator głosujący"
   ]
  },
  {
   "cell_type": "code",
   "execution_count": 11,
   "id": "14fbce97",
   "metadata": {},
   "outputs": [
    {
     "name": "stdout",
     "output_type": "stream",
     "text": [
      "0.7571450060168472\n",
      "0.7025785941363476\n",
      "0.7202607278652906\n",
      "0.7113097898971837\n"
     ]
    }
   ],
   "source": [
    "from sklearn.ensemble import VotingClassifier\n",
    "\n",
    "voting_clf = VotingClassifier(estimators=[('lr', log_clf), ('rf', rnd_clf), ('tree', tree_clf)], voting='hard')\n",
    "\n",
    "voting_clf.fit(X_train, y_train)\n",
    "prediction = voting_clf.predict(X_test)\n",
    "\n",
    "print(accuracy_score(y_test, prediction))\n",
    "print(precision_score(y_test, prediction))\n",
    "print(recall_score(y_test, prediction))\n",
    "print(f1_score(y_test, prediction))"
   ]
  },
  {
   "cell_type": "markdown",
   "id": "d2759753",
   "metadata": {},
   "source": [
    "**Model głęboki**"
   ]
  },
  {
   "cell_type": "code",
   "execution_count": 13,
   "id": "714c849f",
   "metadata": {},
   "outputs": [
    {
     "name": "stdout",
     "output_type": "stream",
     "text": [
      "2.9.1\n",
      "2.9.0\n"
     ]
    }
   ],
   "source": [
    "import tensorflow as tf\n",
    "from tensorflow import keras\n",
    "\n",
    "print(tf.__version__)\n",
    "print(keras.__version__)"
   ]
  },
  {
   "cell_type": "markdown",
   "id": "a560fd98",
   "metadata": {},
   "source": [
    "Podzaił zboiru treningowego na zbiór do trening sieci neuronowej i zbiór walidacyjny"
   ]
  },
  {
   "cell_type": "code",
   "execution_count": 14,
   "id": "c83454c3",
   "metadata": {},
   "outputs": [],
   "source": [
    "X_train_deep, X_valid, y_train_deep, y_valid = train_test_split(X_train, y_train, test_size=0.2, random_state=13)"
   ]
  },
  {
   "cell_type": "markdown",
   "id": "1b9f0234",
   "metadata": {},
   "source": [
    "Budowanie modelu"
   ]
  },
  {
   "cell_type": "code",
   "execution_count": 16,
   "id": "1ed290fa",
   "metadata": {},
   "outputs": [
    {
     "name": "stdout",
     "output_type": "stream",
     "text": [
      "Model: \"sequential_1\"\n",
      "_________________________________________________________________\n",
      " Layer (type)                Output Shape              Param #   \n",
      "=================================================================\n",
      " dense_3 (Dense)             (None, 100)               1700      \n",
      "                                                                 \n",
      " batch_normalization_2 (Batc  (None, 100)              400       \n",
      " hNormalization)                                                 \n",
      "                                                                 \n",
      " activation_2 (Activation)   (None, 100)               0         \n",
      "                                                                 \n",
      " dropout_2 (Dropout)         (None, 100)               0         \n",
      "                                                                 \n",
      " dense_4 (Dense)             (None, 40)                4000      \n",
      "                                                                 \n",
      " batch_normalization_3 (Batc  (None, 40)               160       \n",
      " hNormalization)                                                 \n",
      "                                                                 \n",
      " activation_3 (Activation)   (None, 40)                0         \n",
      "                                                                 \n",
      " dropout_3 (Dropout)         (None, 40)                0         \n",
      "                                                                 \n",
      " dense_5 (Dense)             (None, 1)                 41        \n",
      "                                                                 \n",
      "=================================================================\n",
      "Total params: 6,301\n",
      "Trainable params: 6,021\n",
      "Non-trainable params: 280\n",
      "_________________________________________________________________\n"
     ]
    }
   ],
   "source": [
    "from keras.models import Sequential\n",
    "from keras.layers import Dense\n",
    "from keras.layers import BatchNormalization\n",
    "from keras.layers import Activation\n",
    "from keras.layers import Dropout\n",
    "from keras.callbacks import History\n",
    "\n",
    "history1 = History()\n",
    "\n",
    "model1 = Sequential()\n",
    "model1.add(Dense(100, use_bias = False, input_shape = (X_train.shape[1], )))\n",
    "model1.add(BatchNormalization())\n",
    "model1.add(Activation(\"elu\"))\n",
    "model1.add(Dropout(0.5))\n",
    "\n",
    "model1.add(Dense(40, use_bias = False))\n",
    "model1.add(BatchNormalization())\n",
    "model1.add(Activation(\"elu\"))\n",
    "model1.add(Dropout(0.5))\n",
    "\n",
    "model1.add(Dense(1, activation = \"sigmoid\"))\n",
    "model1.summary()"
   ]
  },
  {
   "cell_type": "markdown",
   "id": "0cd81e5f",
   "metadata": {},
   "source": [
    "Kompilacja i nauczenie modelu"
   ]
  },
  {
   "cell_type": "code",
   "execution_count": 17,
   "id": "684b7ca2",
   "metadata": {},
   "outputs": [],
   "source": [
    "model1.compile(loss = \"binary_crossentropy\", optimizer = \"Adam\", metrics = [\"accuracy\"])"
   ]
  },
  {
   "cell_type": "code",
   "execution_count": 18,
   "id": "bc5a4f94",
   "metadata": {},
   "outputs": [
    {
     "name": "stdout",
     "output_type": "stream",
     "text": [
      "Epoch 1/20\n",
      "1330/1330 [==============================] - 5s 3ms/step - loss: 0.5588 - accuracy: 0.7207 - val_loss: 0.5013 - val_accuracy: 0.7445\n",
      "Epoch 2/20\n",
      "1330/1330 [==============================] - 4s 3ms/step - loss: 0.5165 - accuracy: 0.7437 - val_loss: 0.5000 - val_accuracy: 0.7487\n",
      "Epoch 3/20\n",
      "1330/1330 [==============================] - 4s 3ms/step - loss: 0.5111 - accuracy: 0.7481 - val_loss: 0.4939 - val_accuracy: 0.7560\n",
      "Epoch 4/20\n",
      "1330/1330 [==============================] - 4s 3ms/step - loss: 0.5077 - accuracy: 0.7492 - val_loss: 0.4933 - val_accuracy: 0.7555\n",
      "Epoch 5/20\n",
      "1330/1330 [==============================] - 3s 3ms/step - loss: 0.5066 - accuracy: 0.7497 - val_loss: 0.4917 - val_accuracy: 0.7554\n",
      "Epoch 6/20\n",
      "1330/1330 [==============================] - 3s 3ms/step - loss: 0.5053 - accuracy: 0.7499 - val_loss: 0.4917 - val_accuracy: 0.7544\n",
      "Epoch 7/20\n",
      "1330/1330 [==============================] - 3s 3ms/step - loss: 0.5055 - accuracy: 0.7519 - val_loss: 0.4932 - val_accuracy: 0.7538\n",
      "Epoch 8/20\n",
      "1330/1330 [==============================] - 3s 3ms/step - loss: 0.5045 - accuracy: 0.7513 - val_loss: 0.4908 - val_accuracy: 0.7574\n",
      "Epoch 9/20\n",
      "1330/1330 [==============================] - 3s 3ms/step - loss: 0.5027 - accuracy: 0.7534 - val_loss: 0.4920 - val_accuracy: 0.7562\n",
      "Epoch 10/20\n",
      "1330/1330 [==============================] - 4s 3ms/step - loss: 0.5015 - accuracy: 0.7517 - val_loss: 0.4891 - val_accuracy: 0.7575\n",
      "Epoch 11/20\n",
      "1330/1330 [==============================] - 3s 3ms/step - loss: 0.5032 - accuracy: 0.7513 - val_loss: 0.4907 - val_accuracy: 0.7585\n",
      "Epoch 12/20\n",
      "1330/1330 [==============================] - 3s 3ms/step - loss: 0.5032 - accuracy: 0.7534 - val_loss: 0.4888 - val_accuracy: 0.7569\n",
      "Epoch 13/20\n",
      "1330/1330 [==============================] - 3s 3ms/step - loss: 0.5038 - accuracy: 0.7510 - val_loss: 0.4893 - val_accuracy: 0.7573\n",
      "Epoch 14/20\n",
      "1330/1330 [==============================] - 4s 3ms/step - loss: 0.5031 - accuracy: 0.7522 - val_loss: 0.4881 - val_accuracy: 0.7587\n",
      "Epoch 15/20\n",
      "1330/1330 [==============================] - 4s 3ms/step - loss: 0.5028 - accuracy: 0.7531 - val_loss: 0.4905 - val_accuracy: 0.7571\n",
      "Epoch 16/20\n",
      "1330/1330 [==============================] - 4s 3ms/step - loss: 0.5010 - accuracy: 0.7534 - val_loss: 0.4884 - val_accuracy: 0.7567\n",
      "Epoch 17/20\n",
      "1330/1330 [==============================] - 3s 3ms/step - loss: 0.5001 - accuracy: 0.7534 - val_loss: 0.4877 - val_accuracy: 0.7604\n",
      "Epoch 18/20\n",
      "1330/1330 [==============================] - 4s 3ms/step - loss: 0.5011 - accuracy: 0.7551 - val_loss: 0.4890 - val_accuracy: 0.7583\n",
      "Epoch 19/20\n",
      "1330/1330 [==============================] - 4s 3ms/step - loss: 0.5019 - accuracy: 0.7533 - val_loss: 0.4882 - val_accuracy: 0.7579\n",
      "Epoch 20/20\n",
      "1330/1330 [==============================] - 4s 3ms/step - loss: 0.4998 - accuracy: 0.7543 - val_loss: 0.4877 - val_accuracy: 0.7566\n"
     ]
    }
   ],
   "source": [
    "history1 = model1.fit(X_train_deep, y_train_deep, validation_data = (X_valid, y_valid), batch_size=32, epochs=20)"
   ]
  },
  {
   "cell_type": "markdown",
   "id": "97121aaf",
   "metadata": {},
   "source": [
    "Wykres przedstawiający historię przebiegu trenowania modelu"
   ]
  },
  {
   "cell_type": "code",
   "execution_count": 19,
   "id": "bb9a3c13",
   "metadata": {},
   "outputs": [
    {
     "data": {
      "image/png": "[encoded data removed]",
      "text/plain": [
       "<Figure size 576x360 with 1 Axes>"
      ]
     },
     "metadata": {},
     "output_type": "display_data"
    }
   ],
   "source": [
    "pd.DataFrame(history1.history).plot(figsize=(8, 5))\n",
    "plt.grid(True)\n",
    "plt.gca().set_ylim(0, 1)\n",
    "plt.show()"
   ]
  },
  {
   "cell_type": "markdown",
   "id": "40f87292",
   "metadata": {},
   "source": [
    "Sprawdzenie modelu na zbiorze testowym"
   ]
  },
  {
   "cell_type": "code",
   "execution_count": 20,
   "id": "d222878d",
   "metadata": {},
   "outputs": [
    {
     "name": "stdout",
     "output_type": "stream",
     "text": [
      "416/416 [==============================] - 1s 2ms/step - loss: 0.4938 - accuracy: 0.7579\n"
     ]
    },
    {
     "data": {
      "text/plain": [
       "[0.49376970529556274, 0.757897138595581]"
      ]
     },
     "execution_count": 20,
     "metadata": {},
     "output_type": "execute_result"
    }
   ],
   "source": [
    "model1.evaluate(X_test,y_test)"
   ]
  },
  {
   "cell_type": "markdown",
   "id": "c1ce2933",
   "metadata": {},
   "source": [
    "Podczas testowania różnych parametrów, okazało się, że największy wpływ na wyniki modeli miała dokładna strategia undersamplingu danych. "
   ]
  },
  {
   "cell_type": "code",
   "execution_count": null,
   "id": "b35243b9",
   "metadata": {},
   "outputs": [],
   "source": []
  }
 ],
 "metadata": {
  "kernelspec": {
   "display_name": "Python 3 (ipykernel)",
   "language": "python",
   "name": "python3"
  },
  "language_info": {
   "codemirror_mode": {
    "name": "ipython",
    "version": 3
   },
   "file_extension": ".py",
   "mimetype": "text/x-python",
   "name": "python",
   "nbconvert_exporter": "python",
   "pygments_lexer": "ipython3",
   "version": "3.9.7"
  }
 },
 "nbformat": 4,
 "nbformat_minor": 5
}
